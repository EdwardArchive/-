{
 "cells": [
  {
   "cell_type": "code",
   "execution_count": null,
   "metadata": {},
   "outputs": [],
   "source": [
    "# https://cloud.sscrm.co.kr/Login.aspx\n",
    "\n",
    "# //*[@id=\"txtLoginID\"]\n",
    "# //*[@id=\"txtPassword\"]\n",
    "# //*[@id=\"btnLogin\"]\n",
    "\n",
    "# //*[@id=\"ucHeader_hlTopmenuCS\"] \n",
    "# /html/body/form/div[3]/div[3]/div/div/div/ul/li[1]/ul/li[1]/a\n",
    "# //*[@id=\"ucHeader_submenuCS_02\"]/a\n",
    "\n",
    "#<a id=\"ucHeader_hlTopmenuCS\" href=\"javascript:fnGoMenu('/Pages__C002/CS/CSCI_List.aspx');\"><img src=\"/Images/renew/ico_menu2.png\" class=\"menu_img\">고객상담</a>\n",
    "# //*[@id=\"ucLeft_listCS12\"]/a"
   ]
  },
  {
   "cell_type": "code",
   "execution_count": 29,
   "metadata": {},
   "outputs": [],
   "source": [
    "import selenium\n",
    "from selenium import webdriver\n",
    "from selenium.webdriver import ActionChains\n",
    "from selenium.webdriver.support import expected_conditions as EC\n",
    "from selenium.webdriver.support.ui import WebDriverWait as wait\n",
    "from selenium.webdriver.support.ui import Select\n",
    "from selenium.webdriver.common.keys import Keys\n",
    "from selenium.webdriver.common.by import By"
   ]
  },
  {
   "cell_type": "code",
   "execution_count": 30,
   "metadata": {},
   "outputs": [],
   "source": [
    "URL = 'https://cloud.sscrm.co.kr/Login.aspx'\n",
    "\n",
    "driver = webdriver.Chrome(executable_path='chromedriver')\n",
    "driver.get(url=URL)"
   ]
  },
  {
   "cell_type": "code",
   "execution_count": 31,
   "metadata": {},
   "outputs": [
    {
     "name": "stderr",
     "output_type": "stream",
     "text": [
      "C:\\Users\\kjjs1\\AppData\\Local\\Temp\\ipykernel_14960\\2788462184.py:1: DeprecationWarning: find_element_by_xpath is deprecated. Please use find_element(by=By.XPATH, value=xpath) instead\n",
      "  driver.find_element_by_xpath('//*[@id=\"txtLoginID\"]').send_keys('kjjs1995')\n",
      "C:\\Users\\kjjs1\\AppData\\Local\\Temp\\ipykernel_14960\\2788462184.py:2: DeprecationWarning: find_element_by_xpath is deprecated. Please use find_element(by=By.XPATH, value=xpath) instead\n",
      "  driver.find_element_by_xpath('//*[@id=\"txtPassword\"]').send_keys('c8500568**')\n",
      "C:\\Users\\kjjs1\\AppData\\Local\\Temp\\ipykernel_14960\\2788462184.py:3: DeprecationWarning: find_element_by_xpath is deprecated. Please use find_element(by=By.XPATH, value=xpath) instead\n",
      "  driver.find_element_by_xpath('//*[@id=\"btnLogin\"]').click()\n"
     ]
    }
   ],
   "source": []
  },
  {
   "cell_type": "code",
   "execution_count": 32,
   "metadata": {},
   "outputs": [
    {
     "name": "stderr",
     "output_type": "stream",
     "text": [
      "C:\\Users\\kjjs1\\AppData\\Local\\Temp\\ipykernel_14960\\2508087308.py:2: DeprecationWarning: find_element_by_xpath is deprecated. Please use find_element(by=By.XPATH, value=xpath) instead\n",
      "  driver.find_element_by_xpath('//*[@id=\"ucLeft_listCS12\"]/a').click()\n"
     ]
    }
   ],
   "source": [
    "driver.get(url=\"https://cloud.sscrm.co.kr/Pages__C002/CS/CSCI_List.aspx\")\n",
    "driver.find_element_by_xpath('//*[@id=\"ucLeft_listCS12\"]/a').click()"
   ]
  },
  {
   "cell_type": "code",
   "execution_count": 34,
   "metadata": {},
   "outputs": [
    {
     "name": "stderr",
     "output_type": "stream",
     "text": [
      "C:\\Users\\kjjs1\\AppData\\Local\\Temp\\ipykernel_14960\\3808441739.py:1: DeprecationWarning: find_element_by_xpath is deprecated. Please use find_element(by=By.XPATH, value=xpath) instead\n",
      "  driver.find_element_by_xpath(\"//select[@name='ctl00$ContentPage$FLD_CTCCODE']/option[text()='파주지사']\").click() # CTC\n",
      "C:\\Users\\kjjs1\\AppData\\Local\\Temp\\ipykernel_14960\\3808441739.py:2: DeprecationWarning: find_element_by_xpath is deprecated. Please use find_element(by=By.XPATH, value=xpath) instead\n",
      "  driver.find_element_by_xpath('//*[@id=\"ContentPage_FLD_CUSTNM\"]').send_keys('김아무게') # 고객명\n",
      "C:\\Users\\kjjs1\\AppData\\Local\\Temp\\ipykernel_14960\\3808441739.py:3: DeprecationWarning: find_element_by_xpath is deprecated. Please use find_element(by=By.XPATH, value=xpath) instead\n",
      "  driver.find_element_by_xpath('//*[@id=\"ContentPage_FLD_EMAIL\"]').send_keys('kjjs1996@naver.com') # 이메일\n",
      "C:\\Users\\kjjs1\\AppData\\Local\\Temp\\ipykernel_14960\\3808441739.py:4: DeprecationWarning: find_element_by_xpath is deprecated. Please use find_element(by=By.XPATH, value=xpath) instead\n",
      "  driver.find_element_by_xpath('//*[@id=\"ContentPage_FLD_MOBILE\"]').send_keys('010-4224-1000') # 휴대폰\n",
      "C:\\Users\\kjjs1\\AppData\\Local\\Temp\\ipykernel_14960\\3808441739.py:5: DeprecationWarning: find_element_by_xpath is deprecated. Please use find_element(by=By.XPATH, value=xpath) instead\n",
      "  driver.find_element_by_xpath('//*[@id=\"ContentPage_FLD_BIRTHDAY\"]').send_keys('1996-03-10') # 생년월일\n",
      "C:\\Users\\kjjs1\\AppData\\Local\\Temp\\ipykernel_14960\\3808441739.py:6: DeprecationWarning: find_element_by_xpath is deprecated. Please use find_element(by=By.XPATH, value=xpath) instead\n",
      "  driver.find_element_by_xpath(\"//select[@name='ctl00$ContentPage$FLD_SEX']/option[text()='남']\").click() # 성별\n",
      "C:\\Users\\kjjs1\\AppData\\Local\\Temp\\ipykernel_14960\\3808441739.py:7: DeprecationWarning: find_element_by_xpath is deprecated. Please use find_element(by=By.XPATH, value=xpath) instead\n",
      "  driver.find_element_by_xpath(\"//select[@name='ctl00$ContentPage$FLD_CAREERGOALCODE']/option[text()='취업']\").click()  # 경력목표\n",
      "C:\\Users\\kjjs1\\AppData\\Local\\Temp\\ipykernel_14960\\3808441739.py:8: DeprecationWarning: find_element_by_xpath is deprecated. Please use find_element(by=By.XPATH, value=xpath) instead\n",
      "  driver.find_element_by_xpath(\"//select[@name='ctl00$ContentPage$FLD_PROCESSSTATUSCODE']/option[text()='진행중']\").click() # 진행상황\n",
      "C:\\Users\\kjjs1\\AppData\\Local\\Temp\\ipykernel_14960\\3808441739.py:9: DeprecationWarning: find_element_by_xpath is deprecated. Please use find_element(by=By.XPATH, value=xpath) instead\n",
      "  driver.find_element_by_xpath('//*[@id=\"ContentPage_FLD_ADDRESS1\"]').send_keys('서울시 어디어디') # 주소\n",
      "C:\\Users\\kjjs1\\AppData\\Local\\Temp\\ipykernel_14960\\3808441739.py:10: DeprecationWarning: find_element_by_xpath is deprecated. Please use find_element(by=By.XPATH, value=xpath) instead\n",
      "  driver.find_element_by_xpath('//*[@id=\"ContentPage_FLD_WORKRANK\"]').send_keys('육 중사') # 직급계급\n",
      "C:\\Users\\kjjs1\\AppData\\Local\\Temp\\ipykernel_14960\\3808441739.py:11: DeprecationWarning: find_element_by_xpath is deprecated. Please use find_element(by=By.XPATH, value=xpath) instead\n",
      "  driver.find_element_by_xpath('//*[@id=\"ContentPage_FLD_WORKRETIREDATE\"]').send_keys('2022-02-21') # 퇴직일\n",
      "C:\\Users\\kjjs1\\AppData\\Local\\Temp\\ipykernel_14960\\3808441739.py:12: DeprecationWarning: find_element_by_xpath is deprecated. Please use find_element(by=By.XPATH, value=xpath) instead\n",
      "  driver.find_element_by_xpath('//*[@id=\"ContentPage_FLD_ARMYWORKTYPE\"]').send_keys('해군') # 병과\n",
      "C:\\Users\\kjjs1\\AppData\\Local\\Temp\\ipykernel_14960\\3808441739.py:13: DeprecationWarning: find_element_by_xpath is deprecated. Please use find_element(by=By.XPATH, value=xpath) instead\n",
      "  driver.find_element_by_xpath('//*[@id=\"ContentPage_FLD_WORKYEAR\"]').send_keys('11년') # 근무기간 년\n",
      "C:\\Users\\kjjs1\\AppData\\Local\\Temp\\ipykernel_14960\\3808441739.py:14: DeprecationWarning: find_element_by_xpath is deprecated. Please use find_element(by=By.XPATH, value=xpath) instead\n",
      "  driver.find_element_by_xpath(\"//select[@name='ctl00$ContentPage$FLD_WORKMONTH']/option[text()='{WORKMONTH}']\".format(WORKMONTH='6')).click()  # 근무기간 월\n",
      "C:\\Users\\kjjs1\\AppData\\Local\\Temp\\ipykernel_14960\\3808441739.py:15: DeprecationWarning: find_element_by_xpath is deprecated. Please use find_element(by=By.XPATH, value=xpath) instead\n",
      "  driver.find_element_by_xpath(\"//select[@name='ctl00$ContentPage$FLD_USEYN']/option[text()='사용가능']\").click() # 커리어플러스사용여부\n"
     ]
    }
   ],
   "source": [
    "driver.find_element_by_xpath(\"//select[@name='ctl00$ContentPage$FLD_CTCCODE']/option[text()='파주지사']\").click() # CTC\n",
    "driver.find_element_by_xpath('//*[@id=\"ContentPage_FLD_CUSTNM\"]').send_keys('김아무게') # 고객명\n",
    "driver.find_element_by_xpath('//*[@id=\"ContentPage_FLD_EMAIL\"]').send_keys('kjjs1996@naver.com') # 이메일\n",
    "driver.find_element_by_xpath('//*[@id=\"ContentPage_FLD_MOBILE\"]').send_keys('010-4224-1000') # 휴대폰\n",
    "driver.find_element_by_xpath('//*[@id=\"ContentPage_FLD_BIRTHDAY\"]').send_keys('1996-03-10') # 생년월일\n",
    "driver.find_element_by_xpath(\"//select[@name='ctl00$ContentPage$FLD_SEX']/option[text()='남']\").click() # 성별\n",
    "driver.find_element_by_xpath(\"//select[@name='ctl00$ContentPage$FLD_CAREERGOALCODE']/option[text()='취업']\").click()  # 경력목표\n",
    "driver.find_element_by_xpath(\"//select[@name='ctl00$ContentPage$FLD_PROCESSSTATUSCODE']/option[text()='진행중']\").click() # 진행상황\n",
    "driver.find_element_by_xpath('//*[@id=\"ContentPage_FLD_ADDRESS1\"]').send_keys('서울시 어디어디') # 주소\n",
    "driver.find_element_by_xpath('//*[@id=\"ContentPage_FLD_WORKRANK\"]').send_keys('육 중사') # 직급계급 \n",
    "driver.find_element_by_xpath('//*[@id=\"ContentPage_FLD_WORKRETIREDATE\"]').send_keys('2022-02-21') # 퇴직일 \n",
    "driver.find_element_by_xpath('//*[@id=\"ContentPage_FLD_ARMYWORKTYPE\"]').send_keys('해군') # 병과\n",
    "driver.find_element_by_xpath('//*[@id=\"ContentPage_FLD_WORKYEAR\"]').send_keys('11년') # 근무기간 년\n",
    "driver.find_element_by_xpath(\"//select[@name='ctl00$ContentPage$FLD_WORKMONTH']/option[text()='{WORKMONTH}']\".format(WORKMONTH='6')).click()  # 근무기간 월\n",
    "driver.find_element_by_xpath(\"//select[@name='ctl00$ContentPage$FLD_USEYN']/option[text()='사용가능']\").click() # 커리어플러스사용여부"
   ]
  },
  {
   "cell_type": "code",
   "execution_count": null,
   "metadata": {},
   "outputs": [],
   "source": []
  }
 ],
 "metadata": {
  "interpreter": {
   "hash": "1baa965d5efe3ac65b79dfc60c0d706280b1da80fedb7760faf2759126c4f253"
  },
  "kernelspec": {
   "display_name": "Python 3.8.10 64-bit",
   "language": "python",
   "name": "python3"
  },
  "language_info": {
   "codemirror_mode": {
    "name": "ipython",
    "version": 3
   },
   "file_extension": ".py",
   "mimetype": "text/x-python",
   "name": "python",
   "nbconvert_exporter": "python",
   "pygments_lexer": "ipython3",
   "version": "3.8.10"
  }
 },
 "nbformat": 4,
 "nbformat_minor": 4
}
